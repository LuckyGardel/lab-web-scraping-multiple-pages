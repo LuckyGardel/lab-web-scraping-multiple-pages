{
 "cells": [
  {
   "cell_type": "markdown",
   "id": "69f0757f",
   "metadata": {},
   "source": [
    "#### 1. Create a Python list with the top ten FBI's Most Wanted names:"
   ]
  },
  {
   "cell_type": "markdown",
   "id": "cf507fc4",
   "metadata": {},
   "source": [
    "I am not able to run the FBI website (getting 503 instead of 200 response status code), but the code that we did in the work group is working fine for the rest. I will try again later... "
   ]
  },
  {
   "cell_type": "code",
   "execution_count": 89,
   "id": "d234f2db",
   "metadata": {},
   "outputs": [],
   "source": [
    "import pandas as pd\n",
    "import numpy as np\n",
    "from bs4 import BeautifulSoup\n",
    "import requests\n",
    "from time import sleep"
   ]
  },
  {
   "cell_type": "code",
   "execution_count": 90,
   "id": "542b5518",
   "metadata": {},
   "outputs": [],
   "source": [
    "url = \"https://www.fbi.gov/wanted/topten\""
   ]
  },
  {
   "cell_type": "code",
   "execution_count": 91,
   "id": "f302ec62",
   "metadata": {},
   "outputs": [
    {
     "data": {
      "text/plain": [
       "503"
      ]
     },
     "execution_count": 91,
     "metadata": {},
     "output_type": "execute_result"
    }
   ],
   "source": [
    "header = {\"User-Agent\":'Mozilla/5.0 (Windows NT 10.0; Win64; x64) AppleWebKit/537.36 (KHTML, like Gecko) Chrome/107.0.0.0 Safari/537.36'}\n",
    "response = requests.get(url, headers = header)\n",
    "response.status_code"
   ]
  },
  {
   "cell_type": "code",
   "execution_count": 92,
   "id": "8f2ff255",
   "metadata": {},
   "outputs": [],
   "source": [
    "soup = BeautifulSoup(response.content, \"html.parser\")"
   ]
  },
  {
   "cell_type": "code",
   "execution_count": 108,
   "id": "e403b50a",
   "metadata": {},
   "outputs": [],
   "source": [
    "# soup"
   ]
  },
  {
   "cell_type": "code",
   "execution_count": 109,
   "id": "859db413",
   "metadata": {},
   "outputs": [],
   "source": [
    "# print(soup.prettify())"
   ]
  },
  {
   "cell_type": "code",
   "execution_count": 95,
   "id": "ac57e38a",
   "metadata": {},
   "outputs": [
    {
     "data": {
      "text/plain": [
       "[]"
      ]
     },
     "execution_count": 95,
     "metadata": {},
     "output_type": "execute_result"
    }
   ],
   "source": [
    "# soup.select(\"div.col-lg-12 a\")"
   ]
  },
  {
   "cell_type": "code",
   "execution_count": 110,
   "id": "bc57e6dd",
   "metadata": {},
   "outputs": [],
   "source": [
    "# prestab = soup.select(\"div\")[0]\n",
    "# prestab\n",
    "# prestab.select(\"img\")"
   ]
  },
  {
   "cell_type": "code",
   "execution_count": 97,
   "id": "2b45158a",
   "metadata": {},
   "outputs": [
    {
     "name": "stdout",
     "output_type": "stream",
     "text": [
      "FBI Seal\n"
     ]
    }
   ],
   "source": [
    "data = []\n",
    "for ten in prestab.select(\"img\"):\n",
    "    line = ten.get(\"alt\")\n",
    "    print(line)\n",
    "    data.append(line)\n",
    "    if line is not None:\n",
    "        if ((\"img alt\" in line) & \n",
    "            (\"class\" not in line) & \n",
    "            (\"src\" not in line)):\n",
    "            data.append(ten[\"alt\"])"
   ]
  },
  {
   "cell_type": "code",
   "execution_count": 98,
   "id": "d17eef1a",
   "metadata": {},
   "outputs": [
    {
     "data": {
      "text/plain": [
       "['FBI Seal']"
      ]
     },
     "metadata": {},
     "output_type": "display_data"
    }
   ],
   "source": [
    "display(data)"
   ]
  },
  {
   "cell_type": "code",
   "execution_count": 99,
   "id": "2149e175",
   "metadata": {},
   "outputs": [
    {
     "data": {
      "text/plain": [
       "['FBI Seal']"
      ]
     },
     "metadata": {},
     "output_type": "display_data"
    }
   ],
   "source": [
    "unwanted_num = {None,'Federal Bureau of Investigation Logo'}\n",
    "Top10 = [ele for ele in data if ele not in unwanted_num]\n",
    "display(Top10)"
   ]
  },
  {
   "cell_type": "markdown",
   "id": "f1be5eb4",
   "metadata": {},
   "source": [
    "#### 2. Find the number of titles that have changed in the United States Code since its last release point"
   ]
  },
  {
   "cell_type": "code",
   "execution_count": 100,
   "id": "b2c3dc1f",
   "metadata": {},
   "outputs": [],
   "source": [
    "url = 'http://uscode.house.gov/download/download.shtml'"
   ]
  },
  {
   "cell_type": "code",
   "execution_count": 101,
   "id": "4ee20a75",
   "metadata": {},
   "outputs": [
    {
     "data": {
      "text/plain": [
       "200"
      ]
     },
     "execution_count": 101,
     "metadata": {},
     "output_type": "execute_result"
    }
   ],
   "source": [
    "response = requests.get(url)\n",
    "response.status_code"
   ]
  },
  {
   "cell_type": "code",
   "execution_count": 102,
   "id": "59789cea",
   "metadata": {},
   "outputs": [],
   "source": [
    "soup1 = BeautifulSoup(response.content, \"html.parser\")"
   ]
  },
  {
   "cell_type": "code",
   "execution_count": 111,
   "id": "e83816f2",
   "metadata": {},
   "outputs": [],
   "source": [
    "# soup1"
   ]
  },
  {
   "cell_type": "code",
   "execution_count": 112,
   "id": "e94443d0",
   "metadata": {},
   "outputs": [],
   "source": [
    "# print(soup1.prettify())"
   ]
  },
  {
   "cell_type": "code",
   "execution_count": 105,
   "id": "d267a435",
   "metadata": {},
   "outputs": [],
   "source": [
    "result = soup1.find(\"div\",{\"class\":\"uscitemlist\"})\n",
    "changes = []\n",
    "\n",
    "results = result.find_all('div',{'class':'uscitem'})\n",
    "\n",
    "for i in results:\n",
    "    try:\n",
    "        change = i.find('div',{'class':'usctitlechanged'}).text\n",
    "     \n",
    "        changes.append(i.text.split('117')[0].strip().replace('\\n','').replace(' ٭',''))\n",
    "        \n",
    "    except:\n",
    "        pass"
   ]
  },
  {
   "cell_type": "code",
   "execution_count": 106,
   "id": "40b00a24",
   "metadata": {},
   "outputs": [
    {
     "data": {
      "text/plain": [
       "['Title 6 - Domestic Security',\n",
       " 'Title 7 - Agriculture',\n",
       " 'Title 15 - Commerce and Trade',\n",
       " 'Title 16 - Conservation',\n",
       " 'Title 18 - Crimes and Criminal Procedure',\n",
       " 'Title 25 - Indians',\n",
       " 'Title 28 - Judiciary and Judicial Procedure',\n",
       " 'Title 31 - Money and Finance',\n",
       " 'Title 34 - Crime Control and Law Enforcement',\n",
       " 'Title 35 - Patents',\n",
       " 'Title 40 - Public Buildings, Property, and Works',\n",
       " 'Title 42 - The Public Health and Welfare',\n",
       " 'Title 47 - Telecommunications',\n",
       " 'Title 49 - Transportation']"
      ]
     },
     "execution_count": 106,
     "metadata": {},
     "output_type": "execute_result"
    }
   ],
   "source": [
    "changes"
   ]
  },
  {
   "cell_type": "code",
   "execution_count": 107,
   "id": "fd841513",
   "metadata": {},
   "outputs": [
    {
     "data": {
      "text/plain": [
       "14"
      ]
     },
     "execution_count": 107,
     "metadata": {},
     "output_type": "execute_result"
    }
   ],
   "source": [
    "len(changes)"
   ]
  },
  {
   "cell_type": "markdown",
   "id": "a463c75b",
   "metadata": {},
   "source": [
    "14 titles has changed since the last release point. "
   ]
  },
  {
   "cell_type": "code",
   "execution_count": null,
   "id": "2073c949",
   "metadata": {},
   "outputs": [],
   "source": []
  }
 ],
 "metadata": {
  "kernelspec": {
   "display_name": "Python 3 (ipykernel)",
   "language": "python",
   "name": "python3"
  },
  "language_info": {
   "codemirror_mode": {
    "name": "ipython",
    "version": 3
   },
   "file_extension": ".py",
   "mimetype": "text/x-python",
   "name": "python",
   "nbconvert_exporter": "python",
   "pygments_lexer": "ipython3",
   "version": "3.9.13"
  }
 },
 "nbformat": 4,
 "nbformat_minor": 5
}
